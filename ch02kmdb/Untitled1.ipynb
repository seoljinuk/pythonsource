{
 "cells": [
  {
   "cell_type": "code",
   "execution_count": 4,
   "id": "609e4379-88b9-4e55-b925-01b9e57ff1d4",
   "metadata": {},
   "outputs": [],
   "source": [
    "import pandas as pd\n",
    "import numpy as np\n",
    "import folium\n",
    "import requests\n",
    "\n",
    "from bs4 import BeautifulSoup\n",
    "\n",
    "# pip install tqdm : progressBar 구현\n",
    "from tqdm.notebook import tqdm \n",
    "from selenium import webdriver\n",
    "\n",
    "from selenium.webdriver.common.by import By\n",
    "from selenium.webdriver.support.ui import WebDriverWait\n",
    "from selenium.webdriver.support import expected_conditions as EC\n",
    "from selenium.webdriver.chrome.service import Service\n",
    "\n",
    "# jupyter nbconvert --to script coffeeStore.ipynb"
   ]
  },
  {
   "cell_type": "code",
   "execution_count": 6,
   "id": "63decd28-f3b9-4ace-a33a-f873f7a20f37",
   "metadata": {},
   "outputs": [
    {
     "name": "stdout",
     "output_type": "stream",
     "text": [
      "<class 'selenium.webdriver.chrome.webdriver.WebDriver'>\n"
     ]
    }
   ],
   "source": [
    "chrome_options = webdriver.ChromeOptions() # 크롬 브라우저 옵션\n",
    "drive_path = 'chromedriver.exe' # 다운로드 받은 드라이버 파일\n",
    "myservice = Service(drive_path) # 드라이버 제어를 위한 서비스 객체\n",
    "driver = webdriver.Chrome(service=myservice, options=chrome_options) # 드라이버 객체\n",
    "print(type(driver)) # 객체가 잘 생성되었는 지 확인\n",
    "\n",
    "wait_time = 10 # 최대 대기 시간\n",
    "driver.implicitly_wait(wait_time)"
   ]
  },
  {
   "cell_type": "code",
   "execution_count": 7,
   "id": "52175ac5-0b42-4d11-afd7-87a016e82213",
   "metadata": {},
   "outputs": [],
   "source": [
    "driver.maximize_window() # 윈도우 창 최대화"
   ]
  },
  {
   "cell_type": "code",
   "execution_count": 8,
   "id": "041b9c02-e969-41b0-a299-f1c8fbbd6863",
   "metadata": {},
   "outputs": [],
   "source": [
    "# 스타벅스) 매장 찾기-지역 검색 링크 주소\n",
    "starbucks_url = 'https://www.starbucks.co.kr/store/store_map.do?disp=locale'\n",
    "driver.get(starbucks_url) # 해당 페이지로 이동하기"
   ]
  },
  {
   "cell_type": "code",
   "execution_count": 9,
   "id": "6e106a74-8490-4784-b3eb-e2570abc3f92",
   "metadata": {},
   "outputs": [],
   "source": [
    "# 스타벅스) '서울' 링크 클릭\n",
    "starbucks_seoul_selector = '#container > div > form > fieldset > div > section > article.find_store_cont > article > article:nth-child(4) > div.loca_step1 > div.loca_step1_cont > ul > li:nth-child(1) > a'\n",
    "WebDriverWait(driver, 5).until(EC.presence_of_element_located((By.CSS_SELECTOR, starbucks_seoul_selector))).click()"
   ]
  },
  {
   "cell_type": "code",
   "execution_count": null,
   "id": "68d9c60c-a919-4c90-bf85-e89037dc4760",
   "metadata": {},
   "outputs": [],
   "source": [
    "# 스타벅스) '서울'-'전체' 클릭\n",
    "starbuck_seoul_all = '#mCSB_2_container > ul > li:nth-child(1) > a'\n",
    "WebDriverWait(driver, 5).until(EC.presence_of_element_located((By.CSS_SELECTOR, starbuck_seoul_all))).click()"
   ]
  },
  {
   "cell_type": "code",
   "execution_count": null,
   "id": "bef2a1ed-e9bf-44b7-bb8e-308bd75c690e",
   "metadata": {},
   "outputs": [],
   "source": [
    "# 스타벅스 html 코드를 파싱하여 html 파일에 기록합니다."
   ]
  },
  {
   "cell_type": "code",
   "execution_count": null,
   "id": "042180c5-71ff-47cd-abfb-4c7bb812a464",
   "metadata": {},
   "outputs": [],
   "source": []
  },
  {
   "cell_type": "code",
   "execution_count": null,
   "id": "7f8fad3a-1453-4798-8717-fcab6d7442f3",
   "metadata": {},
   "outputs": [],
   "source": []
  },
  {
   "cell_type": "code",
   "execution_count": null,
   "id": "0f10573b-fc6f-4b67-89b6-cdc1eb4f949a",
   "metadata": {},
   "outputs": [],
   "source": []
  }
 ],
 "metadata": {
  "kernelspec": {
   "display_name": "Python 3 (ipykernel)",
   "language": "python",
   "name": "python3"
  },
  "language_info": {
   "codemirror_mode": {
    "name": "ipython",
    "version": 3
   },
   "file_extension": ".py",
   "mimetype": "text/x-python",
   "name": "python",
   "nbconvert_exporter": "python",
   "pygments_lexer": "ipython3",
   "version": "3.12.4"
  }
 },
 "nbformat": 4,
 "nbformat_minor": 5
}
