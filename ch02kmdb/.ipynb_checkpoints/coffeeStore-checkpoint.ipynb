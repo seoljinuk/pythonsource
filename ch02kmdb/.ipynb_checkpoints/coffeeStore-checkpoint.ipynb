{
 "cells": [
  {
   "cell_type": "code",
   "execution_count": 30,
   "id": "609e4379-88b9-4e55-b925-01b9e57ff1d4",
   "metadata": {},
   "outputs": [],
   "source": [
    "import pandas as pd\n",
    "import numpy as np\n",
    "import folium\n",
    "import requests\n",
    "\n",
    "from bs4 import BeautifulSoup\n",
    "\n",
    "# pip install tqdm : progressBar 구현\n",
    "from tqdm.notebook import tqdm \n",
    "from selenium import webdriver\n",
    "\n",
    "from selenium.webdriver.common.by import By\n",
    "from selenium.webdriver.support.ui import WebDriverWait\n",
    "from selenium.webdriver.support import expected_conditions as EC\n",
    "from selenium.webdriver.chrome.service import Service\n",
    "\n",
    "# jupyter nbconvert --to script coffeeStore.ipynb"
   ]
  },
  {
   "cell_type": "code",
   "execution_count": 31,
   "id": "63decd28-f3b9-4ace-a33a-f873f7a20f37",
   "metadata": {},
   "outputs": [
    {
     "name": "stdout",
     "output_type": "stream",
     "text": [
      "<class 'selenium.webdriver.chrome.webdriver.WebDriver'>\n"
     ]
    }
   ],
   "source": [
    "chrome_options = webdriver.ChromeOptions() # 크롬 브라우저 옵션\n",
    "drive_path = 'chromedriver.exe' # 다운로드 받은 드라이버 파일\n",
    "myservice = Service(drive_path) # 드라이버 제어를 위한 서비스 객체\n",
    "driver = webdriver.Chrome(service=myservice, options=chrome_options) # 드라이버 객체\n",
    "print(type(driver)) # 객체가 잘 생성되었는 지 확인\n",
    "\n",
    "wait_time = 10 # 최대 대기 시간\n",
    "driver.implicitly_wait(wait_time)"
   ]
  },
  {
   "cell_type": "code",
   "execution_count": 32,
   "id": "52175ac5-0b42-4d11-afd7-87a016e82213",
   "metadata": {},
   "outputs": [],
   "source": [
    "driver.maximize_window() # 윈도우 창 최대화"
   ]
  },
  {
   "cell_type": "code",
   "execution_count": 4,
   "id": "041b9c02-e969-41b0-a299-f1c8fbbd6863",
   "metadata": {},
   "outputs": [],
   "source": [
    "# 스타벅스) 매장 찾기-지역 검색 링크 주소\n",
    "starbucks_url = 'https://www.starbucks.co.kr/store/store_map.do?disp=locale'\n",
    "driver.get(starbucks_url) # 해당 페이지로 이동하기"
   ]
  },
  {
   "cell_type": "code",
   "execution_count": 5,
   "id": "6e106a74-8490-4784-b3eb-e2570abc3f92",
   "metadata": {},
   "outputs": [],
   "source": [
    "# 스타벅스) '서울' 링크 클릭\n",
    "starbucks_seoul_selector = '#container > div > form > fieldset > div > section > article.find_store_cont > article > article:nth-child(4) > div.loca_step1 > div.loca_step1_cont > ul > li:nth-child(1) > a'\n",
    "WebDriverWait(driver, 5).until(EC.presence_of_element_located((By.CSS_SELECTOR, starbucks_seoul_selector))).click()"
   ]
  },
  {
   "cell_type": "code",
   "execution_count": 6,
   "id": "68d9c60c-a919-4c90-bf85-e89037dc4760",
   "metadata": {},
   "outputs": [],
   "source": [
    "# 스타벅스) '서울'-'전체' 클릭\n",
    "starbuck_seoul_all = '#mCSB_2_container > ul > li:nth-child(1) > a'\n",
    "WebDriverWait(driver, 5).until(EC.presence_of_element_located((By.CSS_SELECTOR, starbuck_seoul_all))).click()"
   ]
  },
  {
   "cell_type": "code",
   "execution_count": 7,
   "id": "bef2a1ed-e9bf-44b7-bb8e-308bd75c690e",
   "metadata": {},
   "outputs": [
    {
     "name": "stdout",
     "output_type": "stream",
     "text": [
      "starbucks.html 파일 생성됨\n"
     ]
    }
   ],
   "source": [
    "# 스타벅스 html 코드를 파싱하여 html 파일에 기록합니다.\n",
    "html = driver.page_source # 해당 페이지의 소스 코드 반환\n",
    "filename = 'starbucks.html'\n",
    "htmlfile = open(filename, 'w', encoding='UTF-8')\n",
    "print(html, file=htmlfile)\n",
    "htmlfile.close()\n",
    "print(filename + ' 파일 생성됨')"
   ]
  },
  {
   "cell_type": "code",
   "execution_count": 8,
   "id": "042180c5-71ff-47cd-abfb-4c7bb812a464",
   "metadata": {},
   "outputs": [
    {
     "name": "stdout",
     "output_type": "stream",
     "text": [
      "<class 'bs4.BeautifulSoup'>\n"
     ]
    }
   ],
   "source": [
    "# https://www.crummy.com/software/BeautifulSoup/bs4/doc/\n",
    "# 파싱된 결과를 Beautiful Soup 객체로 생성합니다.\n",
    "soup = BeautifulSoup(html, 'html.parser')\n",
    "print(type(soup))"
   ]
  },
  {
   "cell_type": "code",
   "execution_count": 9,
   "id": "7f8fad3a-1453-4798-8717-fcab6d7442f3",
   "metadata": {},
   "outputs": [
    {
     "name": "stdout",
     "output_type": "stream",
     "text": [
      "storeAll : 615\n"
     ]
    }
   ],
   "source": [
    "# 매장 정보들을 담고 있는 컨테이너 박스를 찾습니다.\n",
    "# 컨테이너는 div 태그이고, id가 mCSB_3_container입니다.\n",
    "container = soup.find('div', id='mCSB_3_container')\n",
    "storeAll = container.find_all('li')\n",
    "print('storeAll : %d' % len(storeAll))"
   ]
  },
  {
   "cell_type": "code",
   "execution_count": 19,
   "id": "0f10573b-fc6f-4b67-89b6-cdc1eb4f949a",
   "metadata": {},
   "outputs": [
    {
     "name": "stdout",
     "output_type": "stream",
     "text": [
      "615\n"
     ]
    }
   ],
   "source": [
    "starbucksData = []\n",
    "\n",
    "for store in storeAll:\n",
    "    # print(store)\n",
    "    brand = '스타벅스'\n",
    "    name = store.find('strong').text.strip()\n",
    "    address = store.find('p').text.strip().replace('1522-3232', '')\n",
    "    imsi = address.split(' ')\n",
    "    gu = imsi[1]\n",
    "    latitude = store['data-lat'] # 위도\n",
    "    longitude = store['data-long'] # 경도\n",
    "\n",
    "    starbucksData.append([brand, name, address, gu, latitude, longitude])\n",
    "    # break\n",
    "\n",
    "print(len(starbucksData))"
   ]
  },
  {
   "cell_type": "code",
   "execution_count": 23,
   "id": "6dd78772-4595-47fa-a46f-a15a5e57e771",
   "metadata": {},
   "outputs": [
    {
     "data": {
      "text/html": [
       "<div>\n",
       "<style scoped>\n",
       "    .dataframe tbody tr th:only-of-type {\n",
       "        vertical-align: middle;\n",
       "    }\n",
       "\n",
       "    .dataframe tbody tr th {\n",
       "        vertical-align: top;\n",
       "    }\n",
       "\n",
       "    .dataframe thead th {\n",
       "        text-align: right;\n",
       "    }\n",
       "</style>\n",
       "<table border=\"1\" class=\"dataframe\">\n",
       "  <thead>\n",
       "    <tr style=\"text-align: right;\">\n",
       "      <th></th>\n",
       "      <th>브랜드</th>\n",
       "      <th>상호</th>\n",
       "      <th>주소</th>\n",
       "      <th>군구</th>\n",
       "      <th>위도</th>\n",
       "      <th>경도</th>\n",
       "    </tr>\n",
       "  </thead>\n",
       "  <tbody>\n",
       "    <tr>\n",
       "      <th>0</th>\n",
       "      <td>스타벅스</td>\n",
       "      <td>역삼아레나빌딩</td>\n",
       "      <td>서울특별시 강남구 언주로 425 (역삼동)</td>\n",
       "      <td>강남구</td>\n",
       "      <td>37.501087</td>\n",
       "      <td>127.043069</td>\n",
       "    </tr>\n",
       "    <tr>\n",
       "      <th>1</th>\n",
       "      <td>스타벅스</td>\n",
       "      <td>논현역사거리</td>\n",
       "      <td>서울특별시 강남구 강남대로 538 (논현동)</td>\n",
       "      <td>강남구</td>\n",
       "      <td>37.510178</td>\n",
       "      <td>127.022223</td>\n",
       "    </tr>\n",
       "    <tr>\n",
       "      <th>2</th>\n",
       "      <td>스타벅스</td>\n",
       "      <td>신사역성일빌딩</td>\n",
       "      <td>서울특별시 강남구 강남대로 584 (논현동)</td>\n",
       "      <td>강남구</td>\n",
       "      <td>37.5139309</td>\n",
       "      <td>127.0206057</td>\n",
       "    </tr>\n",
       "    <tr>\n",
       "      <th>3</th>\n",
       "      <td>스타벅스</td>\n",
       "      <td>국기원사거리</td>\n",
       "      <td>서울특별시 강남구 테헤란로 125 (역삼동)</td>\n",
       "      <td>강남구</td>\n",
       "      <td>37.499517</td>\n",
       "      <td>127.031495</td>\n",
       "    </tr>\n",
       "    <tr>\n",
       "      <th>4</th>\n",
       "      <td>스타벅스</td>\n",
       "      <td>대치재경빌딩</td>\n",
       "      <td>서울특별시 강남구 남부순환로 2947 (대치동)</td>\n",
       "      <td>강남구</td>\n",
       "      <td>37.494668</td>\n",
       "      <td>127.062583</td>\n",
       "    </tr>\n",
       "    <tr>\n",
       "      <th>5</th>\n",
       "      <td>스타벅스</td>\n",
       "      <td>봉은사역</td>\n",
       "      <td>서울특별시 강남구 봉은사로 619 (삼성동)</td>\n",
       "      <td>강남구</td>\n",
       "      <td>37.515000</td>\n",
       "      <td>127.063196</td>\n",
       "    </tr>\n",
       "    <tr>\n",
       "      <th>6</th>\n",
       "      <td>스타벅스</td>\n",
       "      <td>압구정윤성빌딩</td>\n",
       "      <td>서울특별시 강남구 논현로 834 (신사동)</td>\n",
       "      <td>강남구</td>\n",
       "      <td>37.5227934</td>\n",
       "      <td>127.0286009</td>\n",
       "    </tr>\n",
       "  </tbody>\n",
       "</table>\n",
       "</div>"
      ],
      "text/plain": [
       "    브랜드       상호                          주소   군구          위도           경도\n",
       "0  스타벅스  역삼아레나빌딩     서울특별시 강남구 언주로 425 (역삼동)  강남구   37.501087   127.043069\n",
       "1  스타벅스   논현역사거리    서울특별시 강남구 강남대로 538 (논현동)  강남구   37.510178   127.022223\n",
       "2  스타벅스  신사역성일빌딩    서울특별시 강남구 강남대로 584 (논현동)  강남구  37.5139309  127.0206057\n",
       "3  스타벅스   국기원사거리    서울특별시 강남구 테헤란로 125 (역삼동)  강남구   37.499517   127.031495\n",
       "4  스타벅스   대치재경빌딩  서울특별시 강남구 남부순환로 2947 (대치동)  강남구   37.494668   127.062583\n",
       "5  스타벅스     봉은사역    서울특별시 강남구 봉은사로 619 (삼성동)  강남구   37.515000   127.063196\n",
       "6  스타벅스  압구정윤성빌딩     서울특별시 강남구 논현로 834 (신사동)  강남구  37.5227934  127.0286009"
      ]
     },
     "execution_count": 23,
     "metadata": {},
     "output_type": "execute_result"
    }
   ],
   "source": [
    "sbDataFrame = pd.DataFrame(starbucksData)\n",
    "sbDataFrame.columns = ['브랜드', '상호', '주소', '군구', '위도', '경도']\n",
    "sbDataFrame.head(n=7) # 반대 메소드 tail"
   ]
  },
  {
   "cell_type": "code",
   "execution_count": 27,
   "id": "9d5627c9-609b-4811-8d69-1f5335920b52",
   "metadata": {},
   "outputs": [
    {
     "name": "stdout",
     "output_type": "stream",
     "text": [
      "위도 누락 데이터 개수 : 0\n",
      "경도 누락 데이터 개수 : 0\n"
     ]
    }
   ],
   "source": [
    "print('위도 누락 데이터 개수 : %d' % sbDataFrame['위도'].isnull().sum())\n",
    "print('경도 누락 데이터 개수 : %d' % sbDataFrame['경도'].isnull().sum())"
   ]
  },
  {
   "cell_type": "code",
   "execution_count": 29,
   "id": "f2ab0340-9a8b-4ee2-b9a7-dfb75368f091",
   "metadata": {},
   "outputs": [
    {
     "name": "stdout",
     "output_type": "stream",
     "text": [
      "서울시 구 목록 개수 : 25\n",
      "['강남구', '강북구', '강서구', '관악구', '광진구', '금천구', '노원구', '도봉구', '동작구', '마포구', '서대문구', '서초구', '성북구', '송파구', '양천구', '영등포구', '은평구', '종로구', '중구', '강동구', '구로구', '동대문구', '성동구', '용산구', '중랑구']\n"
     ]
    }
   ],
   "source": [
    "guList = list(sbDataFrame['군구'].unique())\n",
    "print('서울시 구 목록 개수 : %d' % len(guList))\n",
    "print(guList)"
   ]
  },
  {
   "cell_type": "code",
   "execution_count": 33,
   "id": "80155b3a-97a8-446e-a63d-3cf76eb8e4fc",
   "metadata": {},
   "outputs": [],
   "source": [
    "# 이디야 매장\n",
    "ediya_url = 'https://ediya.com/contents/find_store.html'\n",
    "driver.get(ediya_url)"
   ]
  },
  {
   "cell_type": "code",
   "execution_count": 34,
   "id": "66862053-8308-4afa-913d-3d917edc0e5c",
   "metadata": {},
   "outputs": [],
   "source": [
    "# 이디야 '매장명'과 '주소' 검색에서 '주소' 클릭\n",
    "ediya_address_selector = '#contentWrap > div.contents > div > div.store_search_pop > ul > li:nth-child(2) > a'\n",
    "WebDriverWait(driver, 5).until(EC.presence_of_element_located((By.CSS_SELECTOR, ediya_address_selector))).click()"
   ]
  },
  {
   "cell_type": "code",
   "execution_count": null,
   "id": "0e65d318-a07b-4f28-8ead-bf795439f466",
   "metadata": {},
   "outputs": [],
   "source": [
    "# 누락된 위도와 경도 정보는 kakao api를 이용하여 채워 넣도록 합니다.\n",
    "# https://developers.kakao.com/\n",
    "# kakao에 로그인하여 API 키 발급 받기"
   ]
  },
  {
   "cell_type": "code",
   "execution_count": 40,
   "id": "b5469b75-8e0c-4f80-8176-9eb1f51db7cf",
   "metadata": {},
   "outputs": [],
   "source": [
    "url_header = 'https://dapi.kakao.com/v2/local/search/address.json?query='\n",
    "api_key = '16f486bc90ddf8c917b0e903b6bb3ceb'\n",
    "header = {'Authorization': 'KakaoAK ' + api_key}"
   ]
  },
  {
   "cell_type": "code",
   "execution_count": 55,
   "id": "754febab-f47b-405a-b2ab-8e5c819a329c",
   "metadata": {},
   "outputs": [],
   "source": [
    "# 주소를 입력 받아서 위도와 경도를 반환해주는 함수 구현하기\n",
    "def getGeoCoder(address):\n",
    "    result = \"\"\n",
    "    url = url_header + address\n",
    "    response = requests.get(url, headers=header)\n",
    "    # print(response) # 성공시 <Response [200]>으로 리턴 됨\n",
    "    # print(response.json())\n",
    "    if response.status_code == 200:\n",
    "        try:\n",
    "            result_address = response.json()[\"documents\"][0][\"address\"]\n",
    "            result = result_address[\"y\"], result_address[\"x\"]\n",
    "        except Exception as err:\n",
    "            return None\n",
    "    else:\n",
    "        result = \"ERROR[\" + str(response.status_code) + \"]\"\n",
    "\n",
    "    return result\n",
    "# end def   "
   ]
  },
  {
   "cell_type": "code",
   "execution_count": 56,
   "id": "ddc9e777-2787-48f8-ba1d-08ee8e11ac8d",
   "metadata": {},
   "outputs": [],
   "source": [
    "# 한 개의 매장에 대한 테스트를 진행합니다.\n",
    "# geoInfo = getGeoCoder('서울 중랑구 망우로 460 (망우동)') # 잘 동작하는 주소\n",
    "geoInfo = getGeoCoder('서울 노원구 한글비석로 409 (상계동) 1~2층') # NoneType이 리턴되는 주소\n",
    "geoInfo"
   ]
  },
  {
   "cell_type": "code",
   "execution_count": 57,
   "id": "93ffe1b2-5a8e-4c29-a678-cbf1535de397",
   "metadata": {},
   "outputs": [
    {
     "data": {
      "application/vnd.jupyter.widget-view+json": {
       "model_id": "5e823782ab0b463381cbd8d3cc548a41",
       "version_major": 2,
       "version_minor": 0
      },
      "text/plain": [
       "  0%|          | 0/25 [00:00<?, ?it/s]"
      ]
     },
     "metadata": {},
     "output_type": "display_data"
    },
    {
     "name": "stdout",
     "output_type": "stream",
     "text": [
      "서울 노원구 한글비석로 409 (상계동) 1~2층\n",
      "서울 노원구 한글비석로 409 (상계동) 1~2층\n",
      "서울 동작구 사당로16가길 96 (사당동) 1,2층\n",
      "서울 동작구 사당로16가길 96 (사당동) 1,2층\n",
      "서울 마포구 백범로 100 (대흥동)\n",
      "서울 마포구 백범로 100 (대흥동)\n",
      "서울 영등포구 영등포로35길 19 (영등포동6가)\n",
      "서울 영등포구 영등포로35길 19 (영등포동6가)\n",
      "이디야 매장 개수 : 573\n"
     ]
    }
   ],
   "source": [
    "ediyaData = []\n",
    "\n",
    "for gu in tqdm(guList):\n",
    "    ediya_search_keyword_css = '#keyword'\n",
    "    \n",
    "    # 이디야 주소 검색어 초기화\n",
    "    WebDriverWait(driver, 10).until(EC.presence_of_element_located((By.CSS_SELECTOR, ediya_search_keyword_css))).clear()\n",
    "    \n",
    "    # 이디야 주소 검색어 입력\n",
    "    # f\"서울 {gu}\" : f-string 기법, 서울 중구, 서울 마포구 등등\n",
    "    WebDriverWait(driver, 10).until(EC.presence_of_element_located\n",
    "                                    ((By.CSS_SELECTOR, ediya_search_keyword_css))).send_keys(f\"서울 {gu}\")\n",
    "\n",
    "    # 이디야 주소 검색 버튼 클릭\n",
    "    ediya_search_button_css = '#keyword_div > form > button'\n",
    "    WebDriverWait(driver, 10).until(EC.presence_of_element_located((By.CSS_SELECTOR, ediya_search_button_css))).click()\n",
    "\n",
    "    html = driver.page_source # 각 구별 매장 정보를 담고 있는 html 소스\n",
    "\n",
    "    # 개별 구에 대한 결과를 파일로 저장해 봅니다.\n",
    "    # filename = open(f'서울 {gu}.html', 'w', encoding='UTF-8')\n",
    "    # print(html, file=filename)\n",
    "    # filename.close()\n",
    "    # print(f'서울 {gu}.html 파일 생성' )\n",
    "\n",
    "    soup = BeautifulSoup(html, 'html.parser')\n",
    "    ul_tag = soup.find('ul', id='placesList')\n",
    "    \n",
    "    oneGuEdiyaList = ul_tag.find_all('li')\n",
    "    for store in oneGuEdiyaList:\n",
    "        # print(store)\n",
    "        brand = '이디야'    \n",
    "        name = store.find('dt').text.strip()\n",
    "        address = store.find('dd').text.strip()\n",
    "        imsi = address.split(' ')\n",
    "        sido = imsi[0]\n",
    "        gu = imsi[1]\n",
    "\n",
    "        # 위도/경도 정보가 들어 있는 문자열\n",
    "        geoInfoString = store.find('a')['onclick']\n",
    "        geoInfoImsi = geoInfoString # 중간에 변형이 이루어 지므로 임시 복사\n",
    "\n",
    "        # 넘파이의 nan으로 무의미한 데이터 만들기\n",
    "        latitude = np.nan # 위도 \n",
    "        longitude = np.nan # 경도 \n",
    "        latLong = ['0', '0']\n",
    "\n",
    "        if geoInfoString.startswith(\"panLatTo\"): \n",
    "            # 올바른 위도/경도가 아님\n",
    "            try:\n",
    "                if geoInfoString.index(r\"panLatTo('0','0'\") == 0: \n",
    "                    geoInfo = getGeoCoder(address) \n",
    "                    if geoInfo != None:\n",
    "                        latitude = geoInfo[0] # 위도\n",
    "                        longitude = geoInfo[1] # 경도\n",
    "                    else:\n",
    "                        print(address)                \n",
    "            except ValueError as err:\n",
    "                # 올바른 위도/경도입니다.\n",
    "                latLong = geoInfoString.replace(r\"panLatTo('\", '').replace(r\"');fnMove();\", '')\n",
    "                latLong = latLong.split(\"','\")\n",
    "        \n",
    "                latitude = latLong[1] \n",
    "                longitude = latLong[0]                \n",
    "            # end try\n",
    "\n",
    "        else: # 'panAddTo'으로 시작하는 경우\n",
    "            geoInfo = getGeoCoder(address) \n",
    "            if geoInfo != None:\n",
    "                latitude = geoInfo[0] # 위도\n",
    "                longitude = geoInfo[1] # 경도\n",
    "            else:\n",
    "                print(address)\n",
    "        # end if\n",
    "\n",
    "        # 올바른 위도 경도 형식이 아니면\n",
    "        if latLong[1] == '0' or latLong[0] == '0':            \n",
    "            # 카카오 지도 api 이용하여 위도와 경도를 취득합니다.\n",
    "            geoInfo = getGeoCoder(address) \n",
    "            if geoInfo != None:\n",
    "                latitude = geoInfo[0] # 위도\n",
    "                longitude = geoInfo[1] # 경도\n",
    "            else:\n",
    "                print(address)\n",
    "        # end if\n",
    "        \n",
    "        ediyaData.append([brand, name, address, gu, latitude, longitude, geoInfoImsi])        \n",
    "        \n",
    "        # break\n",
    "    # print('-'*30)\n",
    "    \n",
    "# end for    \n",
    "\n",
    "print('이디야 매장 개수 : %d' % len(ediyaData))"
   ]
  },
  {
   "cell_type": "code",
   "execution_count": 59,
   "id": "4d4bbdb9-5772-424b-8d12-3b2295407307",
   "metadata": {},
   "outputs": [
    {
     "data": {
      "text/html": [
       "<div>\n",
       "<style scoped>\n",
       "    .dataframe tbody tr th:only-of-type {\n",
       "        vertical-align: middle;\n",
       "    }\n",
       "\n",
       "    .dataframe tbody tr th {\n",
       "        vertical-align: top;\n",
       "    }\n",
       "\n",
       "    .dataframe thead th {\n",
       "        text-align: right;\n",
       "    }\n",
       "</style>\n",
       "<table border=\"1\" class=\"dataframe\">\n",
       "  <thead>\n",
       "    <tr style=\"text-align: right;\">\n",
       "      <th></th>\n",
       "      <th>브랜드</th>\n",
       "      <th>상호</th>\n",
       "      <th>주소</th>\n",
       "      <th>군구</th>\n",
       "      <th>위도</th>\n",
       "      <th>경도</th>\n",
       "      <th>geoInfoImsi</th>\n",
       "    </tr>\n",
       "  </thead>\n",
       "  <tbody>\n",
       "    <tr>\n",
       "      <th>0</th>\n",
       "      <td>이디야</td>\n",
       "      <td>금란망우점</td>\n",
       "      <td>서울 중랑구 망우로 460 (망우동)</td>\n",
       "      <td>중랑구</td>\n",
       "      <td>37.6001065609187</td>\n",
       "      <td>127.103136691889</td>\n",
       "      <td>panLatTo('0','0','0');fnMove();</td>\n",
       "    </tr>\n",
       "    <tr>\n",
       "      <th>1</th>\n",
       "      <td>이디야</td>\n",
       "      <td>동원사거리점</td>\n",
       "      <td>서울 중랑구 겸재로 240 (면목동, 행복오피스텔)</td>\n",
       "      <td>중랑구</td>\n",
       "      <td>37.5896269575279</td>\n",
       "      <td>127.094182772191</td>\n",
       "      <td>panLatTo('127.094182772191','37.5896269575279'...</td>\n",
       "    </tr>\n",
       "    <tr>\n",
       "      <th>2</th>\n",
       "      <td>이디야</td>\n",
       "      <td>망우동점</td>\n",
       "      <td>서울 중랑구 망우로 416 (망우동)</td>\n",
       "      <td>중랑구</td>\n",
       "      <td>37.5991657770242</td>\n",
       "      <td>127.098351137589</td>\n",
       "      <td>panLatTo('0','0','2');fnMove();</td>\n",
       "    </tr>\n",
       "    <tr>\n",
       "      <th>3</th>\n",
       "      <td>이디야</td>\n",
       "      <td>망우중앙점</td>\n",
       "      <td>서울 중랑구 용마산로115길 109 (망우동, 한일써너스빌리젠시2단지)</td>\n",
       "      <td>중랑구</td>\n",
       "      <td>37.5974674047065</td>\n",
       "      <td>127.09415879594557</td>\n",
       "      <td>panLatTo('127.09415879594557','37.597467404706...</td>\n",
       "    </tr>\n",
       "    <tr>\n",
       "      <th>4</th>\n",
       "      <td>이디야</td>\n",
       "      <td>망우코레일점</td>\n",
       "      <td>서울 중랑구 망우로55길 11-10 (상봉동, 망우역)</td>\n",
       "      <td>중랑구</td>\n",
       "      <td>37.5992876153903</td>\n",
       "      <td>127.092756577852</td>\n",
       "      <td>panLatTo('127.092756577852','37.5992876153903'...</td>\n",
       "    </tr>\n",
       "  </tbody>\n",
       "</table>\n",
       "</div>"
      ],
      "text/plain": [
       "   브랜드      상호                                       주소   군구  \\\n",
       "0  이디야   금란망우점                     서울 중랑구 망우로 460 (망우동)  중랑구   \n",
       "1  이디야  동원사거리점             서울 중랑구 겸재로 240 (면목동, 행복오피스텔)  중랑구   \n",
       "2  이디야    망우동점                     서울 중랑구 망우로 416 (망우동)  중랑구   \n",
       "3  이디야   망우중앙점  서울 중랑구 용마산로115길 109 (망우동, 한일써너스빌리젠시2단지)  중랑구   \n",
       "4  이디야  망우코레일점           서울 중랑구 망우로55길 11-10 (상봉동, 망우역)  중랑구   \n",
       "\n",
       "                 위도                  경도  \\\n",
       "0  37.6001065609187    127.103136691889   \n",
       "1  37.5896269575279    127.094182772191   \n",
       "2  37.5991657770242    127.098351137589   \n",
       "3  37.5974674047065  127.09415879594557   \n",
       "4  37.5992876153903    127.092756577852   \n",
       "\n",
       "                                         geoInfoImsi  \n",
       "0                    panLatTo('0','0','0');fnMove();  \n",
       "1  panLatTo('127.094182772191','37.5896269575279'...  \n",
       "2                    panLatTo('0','0','2');fnMove();  \n",
       "3  panLatTo('127.09415879594557','37.597467404706...  \n",
       "4  panLatTo('127.092756577852','37.5992876153903'...  "
      ]
     },
     "execution_count": 59,
     "metadata": {},
     "output_type": "execute_result"
    }
   ],
   "source": [
    "ediyaDataFrame = pd.DataFrame(ediyaData)\n",
    "ediyaDataFrame.columns = ['브랜드', '상호', '주소', '군구', '위도', '경도', 'geoInfoImsi']\n",
    "ediyaDataFrame.head()"
   ]
  },
  {
   "cell_type": "code",
   "execution_count": 60,
   "id": "be62fca8-98ce-46b8-9471-3ccbcfaf0307",
   "metadata": {},
   "outputs": [
    {
     "name": "stdout",
     "output_type": "stream",
     "text": [
      "위도 누락 데이터 개수 : 4\n",
      "경도 누락 데이터 개수 : 4\n"
     ]
    }
   ],
   "source": [
    "print('위도 누락 데이터 개수 : %d' % ediyaDataFrame['위도'].isnull().sum())\n",
    "print('경도 누락 데이터 개수 : %d' % ediyaDataFrame['경도'].isnull().sum())"
   ]
  },
  {
   "cell_type": "code",
   "execution_count": 62,
   "id": "af5375d7-e977-4185-aed3-488362d0ea78",
   "metadata": {},
   "outputs": [
    {
     "name": "stdout",
     "output_type": "stream",
     "text": [
      "스타 벅스 매장 개수 : 615\n",
      "이디야 매장 개수 : 573\n"
     ]
    }
   ],
   "source": [
    "print('스타 벅스 매장 개수 : %d' % len(sbDataFrame))\n",
    "print('이디야 매장 개수 : %d' % len(ediyaDataFrame))"
   ]
  },
  {
   "cell_type": "code",
   "execution_count": 63,
   "id": "02a0b3f0-943d-4ffc-b678-e912a113dba5",
   "metadata": {},
   "outputs": [
    {
     "name": "stdout",
     "output_type": "stream",
     "text": [
      "전체 매장 개수 : 1188\n"
     ]
    }
   ],
   "source": [
    "# 임시 컬럼을 제거하고, 2 매장의 데이터 프레임을 합칩니다.\n",
    "ediyaDataFrame = ediyaDataFrame.drop('geoInfoImsi', axis=1)\n",
    "coffeeFrame = pd.concat([sbDataFrame, ediyaDataFrame])\n",
    "print('전체 매장 개수 : %d' % len(coffeeFrame))"
   ]
  },
  {
   "cell_type": "code",
   "execution_count": 64,
   "id": "3e26b51c-79ff-4124-9498-5303832f5eac",
   "metadata": {},
   "outputs": [
    {
     "name": "stdout",
     "output_type": "stream",
     "text": [
      "coffeeList.csv 파일 저장됨\n"
     ]
    }
   ],
   "source": [
    "filename = 'coffeeList.csv'\n",
    "coffeeFrame.to_csv(filename, encoding='CP949', index=False) # 엑셀에서 한글 안깨지고 보려면\n",
    "# coffeeFrame.to_csv(filename, encoding='UTF-8', index=False) # 일반적인 방법\n",
    "print(filename + ' 파일 저장됨')"
   ]
  },
  {
   "cell_type": "code",
   "execution_count": null,
   "id": "75571c01-7792-4b46-a8ea-1ff4df73fb3d",
   "metadata": {},
   "outputs": [],
   "source": [
    "# 내일 할일\n",
    "# 시도 컬럼 추가하기, 데이터 표준화(전처리)\n",
    "# 포리움으로 지도 그리기\n",
    "# 위경도 공란 데이터는 Google Maps Geocoding API에서 구해가지고 수동으로 치환하기"
   ]
  },
  {
   "cell_type": "code",
   "execution_count": null,
   "id": "1afa7d4d-2abf-47f8-934d-b9f9ebacd204",
   "metadata": {},
   "outputs": [],
   "source": []
  }
 ],
 "metadata": {
  "kernelspec": {
   "display_name": "Python 3 (ipykernel)",
   "language": "python",
   "name": "python3"
  },
  "language_info": {
   "codemirror_mode": {
    "name": "ipython",
    "version": 3
   },
   "file_extension": ".py",
   "mimetype": "text/x-python",
   "name": "python",
   "nbconvert_exporter": "python",
   "pygments_lexer": "ipython3",
   "version": "3.12.4"
  }
 },
 "nbformat": 4,
 "nbformat_minor": 5
}
