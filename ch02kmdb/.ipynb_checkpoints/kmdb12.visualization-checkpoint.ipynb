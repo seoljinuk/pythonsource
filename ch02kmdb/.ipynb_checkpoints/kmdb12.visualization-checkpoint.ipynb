{
 "cells": [
  {
   "cell_type": "code",
   "execution_count": null,
   "id": "7cfb5761-676c-4701-916c-c4c211fd6e5c",
   "metadata": {},
   "outputs": [],
   "source": [
    "# 파일 이름 : ch02kmdb/kmdb12.visualization.ipynb\n",
    "import pandas as pd\n",
    "dataInFolder = './../data/'"
   ]
  },
  {
   "cell_type": "code",
   "execution_count": null,
   "id": "b955c080-b18a-4488-b37d-29b745dc71fb",
   "metadata": {},
   "outputs": [],
   "source": [
    "kmdb = pd.read_csv(dataInFolder + 'kmdb_get_movie_list_20231103.csv')\n",
    "column_dict = {\n",
    "\t'movieCd':'영화코드', 'movieNm':'영화명국문', 'movieNmEn':'영화명(영문)', \n",
    "\t'prdtYear':'제작연도', 'openDt':'개봉일', 'typeNm':'영화유형', \n",
    "\t'prdtStatNm':'제작상태', 'nationAlt':'제작국가(전체)', 'genreAlt':'영화장르(전체)', \n",
    "\t'repNationNm':'대표 제작 국가', 'repGenreNm':'대표 장르'    \n",
    "}\n",
    "kmdb = kmdb.rename(columns=column_dict)\n",
    "print(kmdb.columns)\n",
    "kmdb.head()"
   ]
  },
  {
   "cell_type": "code",
   "execution_count": null,
   "id": "7500fcb6-1876-4842-8664-ddd4b52dec55",
   "metadata": {},
   "outputs": [],
   "source": [
    "openYear = [str(item)[0:4] for item in kmdb['개봉일']]\n",
    "kmdb['개봉년도'] = openYear\n",
    "kmdb['개봉년월'] = [str(item)[0:6] for item in kmdb['개봉일']]\n",
    "kmdb.head()"
   ]
  },
  {
   "cell_type": "code",
   "execution_count": null,
   "id": "b02c1511-e5f5-4c1f-bbca-4d0ecedc5771",
   "metadata": {},
   "outputs": [],
   "source": [
    "# 컬럼 재배치 작업\n",
    "column01 = ['영화코드', '영화명국문', '영화명(영문)', '개봉년도', '개봉년월', '개봉일']\n",
    "column02 = ['대표 제작 국가', '대표 장르', '영화유형', '제작상태', '영화장르(전체)', '제작국가(전체)', '제작연도' ]\n",
    "\n",
    "myordering = column01 + column02\n",
    "\n",
    "# 누락된 컬럼이 없는 지 확인\n",
    "result = set(kmdb.columns) == set(myordering)\n",
    "result"
   ]
  },
  {
   "cell_type": "code",
   "execution_count": null,
   "id": "a2bb0517-3812-4032-8a94-2afe8b16f877",
   "metadata": {},
   "outputs": [],
   "source": [
    "kmdb = kmdb[myordering]\n",
    "kmdb.head()"
   ]
  },
  {
   "cell_type": "code",
   "execution_count": null,
   "id": "a00751f6-c4fe-4a8d-870f-e414f4a8ea25",
   "metadata": {},
   "outputs": [],
   "source": [
    "kmdb['대표 장르'].unique()"
   ]
  },
  {
   "cell_type": "code",
   "execution_count": null,
   "id": "ba4f6725-f0b5-4d0c-84c1-8b1c5a9dfefc",
   "metadata": {},
   "outputs": [],
   "source": [
    "genre_filter = ['드라마', '코미디', '판타지', '액션']\n",
    "genre_result = kmdb[kmdb['대표 장르'].isin(genre_filter)]\n",
    "genre_result['대표 장르'].unique()"
   ]
  },
  {
   "cell_type": "code",
   "execution_count": null,
   "id": "7ed2c0c1-3ccd-4edc-a6cf-e886fdc5828b",
   "metadata": {},
   "outputs": [],
   "source": [
    "chartData = genre_result['대표 장르'].value_counts()\n",
    "chartData.to_frame()"
   ]
  },
  {
   "cell_type": "code",
   "execution_count": null,
   "id": "14a327c2-35a8-441e-95c4-24e9ab343055",
   "metadata": {},
   "outputs": [],
   "source": [
    "import matplotlib.pyplot as plt\n",
    "plt.rc('font', family='Malgun Gothic') # 한글 안 깨지도록  맑은 고딕으로 설정"
   ]
  },
  {
   "cell_type": "code",
   "execution_count": null,
   "id": "0bc41e54-16be-4bdc-b46a-30f143de5778",
   "metadata": {},
   "outputs": [],
   "source": [
    "chartData.plot(kind='pie', autopct='%1.2f%%')"
   ]
  },
  {
   "cell_type": "code",
   "execution_count": null,
   "id": "c6dadf09-82ae-48df-8afe-6070fcf406ad",
   "metadata": {},
   "outputs": [],
   "source": [
    "genre_filter = ['드라마', '애니메이션', '범죄', '코미디', '스릴러']\n",
    "genre_result = kmdb[kmdb['대표 장르'].isin(genre_filter)]\n",
    "genre_result['대표 장르'].unique()"
   ]
  },
  {
   "cell_type": "code",
   "execution_count": null,
   "id": "f93bf1d8-feeb-4828-8bb7-6757d6ffc65f",
   "metadata": {},
   "outputs": [],
   "source": [
    "# groupby('a')['b'] : a로 그룹핑해주세요.\n",
    "genreGrouping = genre_result.groupby('대표 장르')['대표 장르']\n",
    "genreChart = genreGrouping.count().sort_values() # b에 대한 갯수를 구해 주세요.\n",
    "genreChart.to_frame()"
   ]
  },
  {
   "cell_type": "code",
   "execution_count": null,
   "id": "c24e9df0-066b-4921-bbdd-0f16446e48ea",
   "metadata": {},
   "outputs": [],
   "source": [
    "genreChart.plot(kind='bar', rot=0)"
   ]
  },
  {
   "cell_type": "code",
   "execution_count": 53,
   "id": "e52fe1b5-3d9a-4e8e-9312-4988c5c3a423",
   "metadata": {},
   "outputs": [
    {
     "data": {
      "text/plain": [
       "array(['한국', '일본', '미국', '중국'], dtype=object)"
      ]
     },
     "execution_count": 53,
     "metadata": {},
     "output_type": "execute_result"
    }
   ],
   "source": [
    "filter_nation = ['미국', '일본', '중국', '한국']\n",
    "nation_name_data = kmdb[kmdb['대표 제작 국가'].isin(filter_nation)]\n",
    "nation_name_data['대표 제작 국가'].unique()"
   ]
  },
  {
   "cell_type": "code",
   "execution_count": 54,
   "id": "e948e331-9fd4-4c61-b67c-02a2e5ff99e6",
   "metadata": {
    "scrolled": true
   },
   "outputs": [
    {
     "data": {
      "text/html": [
       "<div>\n",
       "<style scoped>\n",
       "    .dataframe tbody tr th:only-of-type {\n",
       "        vertical-align: middle;\n",
       "    }\n",
       "\n",
       "    .dataframe tbody tr th {\n",
       "        vertical-align: top;\n",
       "    }\n",
       "\n",
       "    .dataframe thead th {\n",
       "        text-align: right;\n",
       "    }\n",
       "</style>\n",
       "<table border=\"1\" class=\"dataframe\">\n",
       "  <thead>\n",
       "    <tr style=\"text-align: right;\">\n",
       "      <th></th>\n",
       "      <th>대표 제작 국가</th>\n",
       "    </tr>\n",
       "    <tr>\n",
       "      <th>대표 제작 국가</th>\n",
       "      <th></th>\n",
       "    </tr>\n",
       "  </thead>\n",
       "  <tbody>\n",
       "    <tr>\n",
       "      <th>한국</th>\n",
       "      <td>33049</td>\n",
       "    </tr>\n",
       "    <tr>\n",
       "      <th>중국</th>\n",
       "      <td>1951</td>\n",
       "    </tr>\n",
       "    <tr>\n",
       "      <th>일본</th>\n",
       "      <td>11963</td>\n",
       "    </tr>\n",
       "    <tr>\n",
       "      <th>미국</th>\n",
       "      <td>15761</td>\n",
       "    </tr>\n",
       "  </tbody>\n",
       "</table>\n",
       "</div>"
      ],
      "text/plain": [
       "          대표 제작 국가\n",
       "대표 제작 국가          \n",
       "한국           33049\n",
       "중국            1951\n",
       "일본           11963\n",
       "미국           15761"
      ]
     },
     "execution_count": 54,
     "metadata": {},
     "output_type": "execute_result"
    }
   ],
   "source": [
    "nation_name_grouping = nation_name_data.groupby('대표 제작 국가')['대표 제작 국가']\n",
    "nation_name_chart = nation_name_grouping.count().sort_index(ascending=False) # 색인 기반 오름차 정렬\n",
    "nation_name_chart.to_frame()"
   ]
  },
  {
   "cell_type": "code",
   "execution_count": 55,
   "id": "ecdd25ca-294b-4209-9c41-05994045ebea",
   "metadata": {},
   "outputs": [
    {
     "data": {
      "text/plain": [
       "<Axes: ylabel='대표 제작 국가'>"
      ]
     },
     "execution_count": 55,
     "metadata": {},
     "output_type": "execute_result"
    },
    {
     "data": {
      "image/png": "[encoded data removed]",
      "text/plain": [
       "<Figure size 640x480 with 1 Axes>"
      ]
     },
     "metadata": {},
     "output_type": "display_data"
    }
   ],
   "source": [
    "nation_name_chart.plot(kind='barh', rot=0)"
   ]
  },
  {
   "cell_type": "code",
   "execution_count": null,
   "id": "6c805ba1-c83f-481c-a6ff-73e5bc04f41d",
   "metadata": {},
   "outputs": [],
   "source": [
    "nation = ['한국', '미국', '일본']\n",
    "genre = ['범죄', '코미디', '스릴러', '뮤지컬']\n",
    "\n",
    "result = kmdb[kmdb['대표 제작 국가'].isin(nation)]\n",
    "result = result[result['대표 장르'].isin(genre)]"
   ]
  },
  {
   "cell_type": "code",
   "execution_count": null,
   "id": "ab28b7e7-c594-4fde-9467-4d4efb869854",
   "metadata": {},
   "outputs": [],
   "source": [
    "resultGroup = result.groupby(['대표 제작 국가', '대표 장르'])['대표 제작 국가']\n",
    "barChartData = resultGroup.count().to_frame()\n",
    "barChartData = barChartData.rename(columns={'대표 제작 국가':'cnt'})\n",
    "barChartData.reset_index()"
   ]
  },
  {
   "cell_type": "code",
   "execution_count": null,
   "id": "93650c69-3e89-49e8-aa7e-4c10a82b8195",
   "metadata": {},
   "outputs": [],
   "source": [
    "barChart = pd.pivot_table(barChartData, index='대표 제작 국가', columns='대표 장르', values='cnt', aggfunc='mean')\n",
    "barChart"
   ]
  },
  {
   "cell_type": "code",
   "execution_count": null,
   "id": "236e7cff-3ef5-46b8-a603-19a9a91dc553",
   "metadata": {},
   "outputs": [],
   "source": [
    "barChart.plot(kind='bar', rot=0)\n",
    "plt.title('국가별 장르별 다변량 수직 막대 그래프')"
   ]
  },
  {
   "cell_type": "code",
   "execution_count": null,
   "id": "33539894-0719-4551-877a-20751d32c672",
   "metadata": {},
   "outputs": [],
   "source": [
    "barChart.T.plot(kind='bar', rot=0)\n",
    "plt.title('장르별 국가별 다변량 수직 막대 그래프')"
   ]
  },
  {
   "cell_type": "code",
   "execution_count": null,
   "id": "11085910-9042-4dd5-9e98-f55aeebeca99",
   "metadata": {},
   "outputs": [],
   "source": [
    "kmdb.info()"
   ]
  },
  {
   "cell_type": "code",
   "execution_count": null,
   "id": "9dcc0672-7fae-470b-afbf-bc710ab2536d",
   "metadata": {},
   "outputs": [],
   "source": [
    "# sorted : 정렬을 수행하는 내장 함수\n",
    "sorted(kmdb['개봉년월'].unique())"
   ]
  },
  {
   "cell_type": "code",
   "execution_count": null,
   "id": "cdeae826-7c7d-4af2-b358-f8971fe40eb1",
   "metadata": {},
   "outputs": [],
   "source": [
    "# 2022년도와 2023년도만 필터링\n",
    "year2022 = ['2022' + str(idx).zfill(2) for idx in range(1, 13)]\n",
    "year2023 = ['2023' + str(idx).zfill(2) for idx in range(1, 13)]\n",
    "myyear = year2022 + year2023\n",
    "recentKmdb = kmdb[kmdb['개봉년월'].isin(myyear)]\n",
    "recentKmdb"
   ]
  },
  {
   "cell_type": "code",
   "execution_count": null,
   "id": "2cd0c7bf-46b4-45ba-bdfa-c06a2715e1d8",
   "metadata": {},
   "outputs": [],
   "source": [
    "sorted(recentKmdb['개봉년월'].unique())"
   ]
  },
  {
   "cell_type": "code",
   "execution_count": null,
   "id": "2e41ad65-b493-462d-953b-fc9602902e81",
   "metadata": {},
   "outputs": [],
   "source": [
    "openMonth = recentKmdb.groupby('개봉년월')['개봉년월']\n",
    "openChart = openMonth.count()\n",
    "openChart.to_frame()\n",
    "print(type(openChart))"
   ]
  },
  {
   "cell_type": "code",
   "execution_count": null,
   "id": "e05223f8-0f7e-4f4d-b4bf-9a4346b26a54",
   "metadata": {},
   "outputs": [],
   "source": [
    "openChart.plot(kind='line', grid=True, figsize=(10, 6), marker='o', rot=30)\n",
    "plt.xticks(range(len(openChart.index)), openChart.index)"
   ]
  },
  {
   "cell_type": "code",
   "execution_count": null,
   "id": "1b7c1636-af12-4a1a-860c-00a60cdd302f",
   "metadata": {},
   "outputs": [],
   "source": [
    "nationList = recentKmdb['대표 제작 국가'].unique()\n",
    "nationList"
   ]
  },
  {
   "cell_type": "code",
   "execution_count": null,
   "id": "9581eb01-b282-4197-9184-f4109574a202",
   "metadata": {},
   "outputs": [],
   "source": [
    "region_txt = open(dataInFolder + 'region.txt', mode='rt', encoding='UTF-8')\n",
    "\n",
    "region_dict = dict()\n",
    "\n",
    "region_list = region_txt.readlines()\n",
    "\n",
    "for oneline in region_list:\n",
    "    nation = oneline.replace('\\n', '').split(':')\n",
    "    region_dict[nation[0]] = nation[1]\n",
    "# end for \n",
    "\n",
    "region_dict"
   ]
  },
  {
   "cell_type": "code",
   "execution_count": null,
   "id": "667eed5b-6088-41a5-8790-697da0a12c17",
   "metadata": {},
   "outputs": [],
   "source": [
    "# '대표 제작 국가'를 이용하여 사전에서 '대륙' 이름을 찾아서 파생 컬럼 '대륙'에 추가합니다.\n",
    "recentKmdb.loc[:, '대륙'] = recentKmdb.loc[:, '대표 제작 국가'].apply(lambda nation : region_dict.get(nation, nation))\n",
    "recentKmdb.loc[:, ['대표 제작 국가', '대륙']].head()"
   ]
  },
  {
   "cell_type": "code",
   "execution_count": null,
   "id": "04616ed7-ac0c-4219-99ed-0d940ac8b0fb",
   "metadata": {},
   "outputs": [],
   "source": [
    "# 상위 3개 대륙만 추출하기\n",
    "nTop = 3\n",
    "continent = recentKmdb['대륙'].value_counts().to_frame()\n",
    "continent = continent.nlargest(nTop, 'count')\n",
    "continent"
   ]
  },
  {
   "cell_type": "code",
   "execution_count": null,
   "id": "65763a1c-4841-43b4-8199-c83114c5f8c1",
   "metadata": {},
   "outputs": [],
   "source": [
    "continent.plot(kind='pie', subplots=True)"
   ]
  },
  {
   "cell_type": "code",
   "execution_count": null,
   "id": "4386f149-f61a-4962-8add-6b39a5274de4",
   "metadata": {},
   "outputs": [],
   "source": []
  },
  {
   "cell_type": "code",
   "execution_count": null,
   "id": "9ae62209-75bf-4955-afd9-1f3691d1c923",
   "metadata": {},
   "outputs": [],
   "source": []
  },
  {
   "cell_type": "code",
   "execution_count": null,
   "id": "c4387b41-a1b3-4a0f-97a1-8b92446ff047",
   "metadata": {},
   "outputs": [],
   "source": []
  },
  {
   "cell_type": "code",
   "execution_count": null,
   "id": "9ff57fab-a32d-44cc-8550-e18b5c5ccb7f",
   "metadata": {},
   "outputs": [],
   "source": []
  },
  {
   "cell_type": "code",
   "execution_count": null,
   "id": "8df8afd1-6ff8-4471-ae00-92b680ddad4f",
   "metadata": {},
   "outputs": [],
   "source": []
  },
  {
   "cell_type": "code",
   "execution_count": null,
   "id": "6dfd2182-70b9-409d-aee7-0cc41d08b14f",
   "metadata": {},
   "outputs": [],
   "source": []
  },
  {
   "cell_type": "code",
   "execution_count": null,
   "id": "251044ce-24f1-43e0-9cc9-32744bd95a72",
   "metadata": {},
   "outputs": [],
   "source": []
  },
  {
   "cell_type": "code",
   "execution_count": null,
   "id": "458604b7-a160-4350-8c34-6f3a63dc5bdb",
   "metadata": {},
   "outputs": [],
   "source": []
  },
  {
   "cell_type": "code",
   "execution_count": null,
   "id": "82202d0f-fa3f-4f88-a8d0-2aebe48ad1f4",
   "metadata": {},
   "outputs": [],
   "source": []
  },
  {
   "cell_type": "code",
   "execution_count": null,
   "id": "9a3a421e-fdcf-4cc6-b842-d61e1f24e95b",
   "metadata": {},
   "outputs": [],
   "source": []
  }
 ],
 "metadata": {
  "kernelspec": {
   "display_name": "Python 3 (ipykernel)",
   "language": "python",
   "name": "python3"
  },
  "language_info": {
   "codemirror_mode": {
    "name": "ipython",
    "version": 3
   },
   "file_extension": ".py",
   "mimetype": "text/x-python",
   "name": "python",
   "nbconvert_exporter": "python",
   "pygments_lexer": "ipython3",
   "version": "3.12.4"
  }
 },
 "nbformat": 4,
 "nbformat_minor": 5
}
